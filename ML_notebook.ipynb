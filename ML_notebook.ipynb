{
  "nbformat": 4,
  "nbformat_minor": 0,
  "metadata": {
    "colab": {
      "provenance": []
    },
    "kernelspec": {
      "name": "python3",
      "display_name": "Python 3"
    },
    "language_info": {
      "name": "python"
    }
  },
  "cells": [
    {
      "cell_type": "markdown",
      "source": [
        "# Machine learning model to predict chl-a concentration in the sabah coast of Malaysia, Kota Kinabalu (LSTM model) (2013 to 2020 data)"
      ],
      "metadata": {
        "id": "Ph1lptph3Bb2"
      }
    },
    {
      "cell_type": "code",
      "source": [
        "# give access to drive\n",
        "from google.colab import drive\n",
        "drive.mount('/content/drive')"
      ],
      "metadata": {
        "colab": {
          "base_uri": "https://localhost:8080/"
        },
        "id": "pqJ-A1FlKAPY",
        "outputId": "e095b0ef-be7d-4d70-945e-04c03f9be76b"
      },
      "execution_count": 1,
      "outputs": [
        {
          "output_type": "stream",
          "name": "stdout",
          "text": [
            "Mounted at /content/drive\n"
          ]
        }
      ]
    },
    {
      "cell_type": "code",
      "source": [
        "# importing the library needed\n",
        "\n",
        "from tensorflow import keras\n",
        "from tensorflow.keras.models import Sequential, load_model\n",
        "from tensorflow.keras.layers import Dense, Dropout, Activation, Flatten\n",
        "from tensorflow.keras.layers import Conv1D, LSTM, MaxPool1D\n",
        "from tensorflow.keras.callbacks import ModelCheckpoint\n",
        "\n",
        "import xarray as xr\n",
        "import pandas as pd\n",
        "import numpy as np\n",
        "import matplotlib.pyplot as plt\n",
        "\n",
        "from sklearn.preprocessing import MinMaxScaler\n",
        "\n"
      ],
      "metadata": {
        "id": "iLUR9rTZKZpO"
      },
      "execution_count": 2,
      "outputs": []
    },
    {
      "cell_type": "code",
      "source": [
        "# read the data \n",
        "df = pd.read_csv(\"/content/drive/MyDrive/Ocean_Hackathon/chla_by_sites.csv\")\n",
        "df"
      ],
      "metadata": {
        "id": "fnM46cq1KcsW",
        "colab": {
          "base_uri": "https://localhost:8080/",
          "height": 424
        },
        "outputId": "fdc59d71-1f32-4f75-d629-a288bc34d6aa"
      },
      "execution_count": 3,
      "outputs": [
        {
          "output_type": "execute_result",
          "data": {
            "text/plain": [
              "            time  lat_site_1  lon_site_1     CHL_1  lat_site_2  lon_site_2  \\\n",
              "0     2013-01-01    6.104164   116.10417  0.564678    6.062498   116.10417   \n",
              "1     2013-01-02    6.104164   116.10417  0.564721    6.062498   116.10417   \n",
              "2     2013-01-03    6.104164   116.10417  0.587605    6.062498   116.10417   \n",
              "3     2013-01-04    6.104164   116.10417  0.442397    6.062498   116.10417   \n",
              "4     2013-01-05    6.104164   116.10417  0.327515    6.062498   116.10417   \n",
              "...          ...         ...         ...       ...         ...         ...   \n",
              "2917  2020-12-27    6.104164   116.10417  3.216164    6.062498   116.10417   \n",
              "2918  2020-12-28    6.104164   116.10417  3.149262    6.062498   116.10417   \n",
              "2919  2020-12-29    6.104164   116.10417  2.152458    6.062498   116.10417   \n",
              "2920  2020-12-30    6.104164   116.10417  1.799753    6.062498   116.10417   \n",
              "2921  2020-12-31    6.104164   116.10417  1.802833    6.062498   116.10417   \n",
              "\n",
              "         CHL_2  lat_site_3  lon_site_3     CHL_3  lat_site_4  lon_site_4  \\\n",
              "0     0.560019    6.020831   116.10417  0.510485    6.020831   116.06251   \n",
              "1     0.560072    6.020831   116.10417  0.510547    6.020831   116.06251   \n",
              "2     0.548594    6.020831   116.10417  0.471003    6.020831   116.06251   \n",
              "3     0.448292    6.020831   116.10417  0.431459    6.020831   116.06251   \n",
              "4     0.350212    6.020831   116.10417  0.348730    6.020831   116.06251   \n",
              "...        ...         ...         ...       ...         ...         ...   \n",
              "2917  4.875177    6.020831   116.10417  7.636661    6.020831   116.06251   \n",
              "2918  4.772104    6.020831   116.10417  7.474741    6.020831   116.06251   \n",
              "2919  2.856548    6.020831   116.10417  4.321699    6.020831   116.06251   \n",
              "2920  1.991847    6.020831   116.10417  2.006027    6.020831   116.06251   \n",
              "2921  2.007080    6.020831   116.10417  1.982885    6.020831   116.06251   \n",
              "\n",
              "         CHL_4  \n",
              "0     0.477669  \n",
              "1     0.477821  \n",
              "2     0.469086  \n",
              "3     0.405297  \n",
              "4     0.345481  \n",
              "...        ...  \n",
              "2917  5.718042  \n",
              "2918  5.580632  \n",
              "2919  3.686310  \n",
              "2920  1.931194  \n",
              "2921  1.911234  \n",
              "\n",
              "[2922 rows x 13 columns]"
            ],
            "text/html": [
              "\n",
              "  <div id=\"df-391562a9-0584-4161-a9ee-21e5709dd259\">\n",
              "    <div class=\"colab-df-container\">\n",
              "      <div>\n",
              "<style scoped>\n",
              "    .dataframe tbody tr th:only-of-type {\n",
              "        vertical-align: middle;\n",
              "    }\n",
              "\n",
              "    .dataframe tbody tr th {\n",
              "        vertical-align: top;\n",
              "    }\n",
              "\n",
              "    .dataframe thead th {\n",
              "        text-align: right;\n",
              "    }\n",
              "</style>\n",
              "<table border=\"1\" class=\"dataframe\">\n",
              "  <thead>\n",
              "    <tr style=\"text-align: right;\">\n",
              "      <th></th>\n",
              "      <th>time</th>\n",
              "      <th>lat_site_1</th>\n",
              "      <th>lon_site_1</th>\n",
              "      <th>CHL_1</th>\n",
              "      <th>lat_site_2</th>\n",
              "      <th>lon_site_2</th>\n",
              "      <th>CHL_2</th>\n",
              "      <th>lat_site_3</th>\n",
              "      <th>lon_site_3</th>\n",
              "      <th>CHL_3</th>\n",
              "      <th>lat_site_4</th>\n",
              "      <th>lon_site_4</th>\n",
              "      <th>CHL_4</th>\n",
              "    </tr>\n",
              "  </thead>\n",
              "  <tbody>\n",
              "    <tr>\n",
              "      <th>0</th>\n",
              "      <td>2013-01-01</td>\n",
              "      <td>6.104164</td>\n",
              "      <td>116.10417</td>\n",
              "      <td>0.564678</td>\n",
              "      <td>6.062498</td>\n",
              "      <td>116.10417</td>\n",
              "      <td>0.560019</td>\n",
              "      <td>6.020831</td>\n",
              "      <td>116.10417</td>\n",
              "      <td>0.510485</td>\n",
              "      <td>6.020831</td>\n",
              "      <td>116.06251</td>\n",
              "      <td>0.477669</td>\n",
              "    </tr>\n",
              "    <tr>\n",
              "      <th>1</th>\n",
              "      <td>2013-01-02</td>\n",
              "      <td>6.104164</td>\n",
              "      <td>116.10417</td>\n",
              "      <td>0.564721</td>\n",
              "      <td>6.062498</td>\n",
              "      <td>116.10417</td>\n",
              "      <td>0.560072</td>\n",
              "      <td>6.020831</td>\n",
              "      <td>116.10417</td>\n",
              "      <td>0.510547</td>\n",
              "      <td>6.020831</td>\n",
              "      <td>116.06251</td>\n",
              "      <td>0.477821</td>\n",
              "    </tr>\n",
              "    <tr>\n",
              "      <th>2</th>\n",
              "      <td>2013-01-03</td>\n",
              "      <td>6.104164</td>\n",
              "      <td>116.10417</td>\n",
              "      <td>0.587605</td>\n",
              "      <td>6.062498</td>\n",
              "      <td>116.10417</td>\n",
              "      <td>0.548594</td>\n",
              "      <td>6.020831</td>\n",
              "      <td>116.10417</td>\n",
              "      <td>0.471003</td>\n",
              "      <td>6.020831</td>\n",
              "      <td>116.06251</td>\n",
              "      <td>0.469086</td>\n",
              "    </tr>\n",
              "    <tr>\n",
              "      <th>3</th>\n",
              "      <td>2013-01-04</td>\n",
              "      <td>6.104164</td>\n",
              "      <td>116.10417</td>\n",
              "      <td>0.442397</td>\n",
              "      <td>6.062498</td>\n",
              "      <td>116.10417</td>\n",
              "      <td>0.448292</td>\n",
              "      <td>6.020831</td>\n",
              "      <td>116.10417</td>\n",
              "      <td>0.431459</td>\n",
              "      <td>6.020831</td>\n",
              "      <td>116.06251</td>\n",
              "      <td>0.405297</td>\n",
              "    </tr>\n",
              "    <tr>\n",
              "      <th>4</th>\n",
              "      <td>2013-01-05</td>\n",
              "      <td>6.104164</td>\n",
              "      <td>116.10417</td>\n",
              "      <td>0.327515</td>\n",
              "      <td>6.062498</td>\n",
              "      <td>116.10417</td>\n",
              "      <td>0.350212</td>\n",
              "      <td>6.020831</td>\n",
              "      <td>116.10417</td>\n",
              "      <td>0.348730</td>\n",
              "      <td>6.020831</td>\n",
              "      <td>116.06251</td>\n",
              "      <td>0.345481</td>\n",
              "    </tr>\n",
              "    <tr>\n",
              "      <th>...</th>\n",
              "      <td>...</td>\n",
              "      <td>...</td>\n",
              "      <td>...</td>\n",
              "      <td>...</td>\n",
              "      <td>...</td>\n",
              "      <td>...</td>\n",
              "      <td>...</td>\n",
              "      <td>...</td>\n",
              "      <td>...</td>\n",
              "      <td>...</td>\n",
              "      <td>...</td>\n",
              "      <td>...</td>\n",
              "      <td>...</td>\n",
              "    </tr>\n",
              "    <tr>\n",
              "      <th>2917</th>\n",
              "      <td>2020-12-27</td>\n",
              "      <td>6.104164</td>\n",
              "      <td>116.10417</td>\n",
              "      <td>3.216164</td>\n",
              "      <td>6.062498</td>\n",
              "      <td>116.10417</td>\n",
              "      <td>4.875177</td>\n",
              "      <td>6.020831</td>\n",
              "      <td>116.10417</td>\n",
              "      <td>7.636661</td>\n",
              "      <td>6.020831</td>\n",
              "      <td>116.06251</td>\n",
              "      <td>5.718042</td>\n",
              "    </tr>\n",
              "    <tr>\n",
              "      <th>2918</th>\n",
              "      <td>2020-12-28</td>\n",
              "      <td>6.104164</td>\n",
              "      <td>116.10417</td>\n",
              "      <td>3.149262</td>\n",
              "      <td>6.062498</td>\n",
              "      <td>116.10417</td>\n",
              "      <td>4.772104</td>\n",
              "      <td>6.020831</td>\n",
              "      <td>116.10417</td>\n",
              "      <td>7.474741</td>\n",
              "      <td>6.020831</td>\n",
              "      <td>116.06251</td>\n",
              "      <td>5.580632</td>\n",
              "    </tr>\n",
              "    <tr>\n",
              "      <th>2919</th>\n",
              "      <td>2020-12-29</td>\n",
              "      <td>6.104164</td>\n",
              "      <td>116.10417</td>\n",
              "      <td>2.152458</td>\n",
              "      <td>6.062498</td>\n",
              "      <td>116.10417</td>\n",
              "      <td>2.856548</td>\n",
              "      <td>6.020831</td>\n",
              "      <td>116.10417</td>\n",
              "      <td>4.321699</td>\n",
              "      <td>6.020831</td>\n",
              "      <td>116.06251</td>\n",
              "      <td>3.686310</td>\n",
              "    </tr>\n",
              "    <tr>\n",
              "      <th>2920</th>\n",
              "      <td>2020-12-30</td>\n",
              "      <td>6.104164</td>\n",
              "      <td>116.10417</td>\n",
              "      <td>1.799753</td>\n",
              "      <td>6.062498</td>\n",
              "      <td>116.10417</td>\n",
              "      <td>1.991847</td>\n",
              "      <td>6.020831</td>\n",
              "      <td>116.10417</td>\n",
              "      <td>2.006027</td>\n",
              "      <td>6.020831</td>\n",
              "      <td>116.06251</td>\n",
              "      <td>1.931194</td>\n",
              "    </tr>\n",
              "    <tr>\n",
              "      <th>2921</th>\n",
              "      <td>2020-12-31</td>\n",
              "      <td>6.104164</td>\n",
              "      <td>116.10417</td>\n",
              "      <td>1.802833</td>\n",
              "      <td>6.062498</td>\n",
              "      <td>116.10417</td>\n",
              "      <td>2.007080</td>\n",
              "      <td>6.020831</td>\n",
              "      <td>116.10417</td>\n",
              "      <td>1.982885</td>\n",
              "      <td>6.020831</td>\n",
              "      <td>116.06251</td>\n",
              "      <td>1.911234</td>\n",
              "    </tr>\n",
              "  </tbody>\n",
              "</table>\n",
              "<p>2922 rows × 13 columns</p>\n",
              "</div>\n",
              "      <button class=\"colab-df-convert\" onclick=\"convertToInteractive('df-391562a9-0584-4161-a9ee-21e5709dd259')\"\n",
              "              title=\"Convert this dataframe to an interactive table.\"\n",
              "              style=\"display:none;\">\n",
              "        \n",
              "  <svg xmlns=\"http://www.w3.org/2000/svg\" height=\"24px\"viewBox=\"0 0 24 24\"\n",
              "       width=\"24px\">\n",
              "    <path d=\"M0 0h24v24H0V0z\" fill=\"none\"/>\n",
              "    <path d=\"M18.56 5.44l.94 2.06.94-2.06 2.06-.94-2.06-.94-.94-2.06-.94 2.06-2.06.94zm-11 1L8.5 8.5l.94-2.06 2.06-.94-2.06-.94L8.5 2.5l-.94 2.06-2.06.94zm10 10l.94 2.06.94-2.06 2.06-.94-2.06-.94-.94-2.06-.94 2.06-2.06.94z\"/><path d=\"M17.41 7.96l-1.37-1.37c-.4-.4-.92-.59-1.43-.59-.52 0-1.04.2-1.43.59L10.3 9.45l-7.72 7.72c-.78.78-.78 2.05 0 2.83L4 21.41c.39.39.9.59 1.41.59.51 0 1.02-.2 1.41-.59l7.78-7.78 2.81-2.81c.8-.78.8-2.07 0-2.86zM5.41 20L4 18.59l7.72-7.72 1.47 1.35L5.41 20z\"/>\n",
              "  </svg>\n",
              "      </button>\n",
              "      \n",
              "  <style>\n",
              "    .colab-df-container {\n",
              "      display:flex;\n",
              "      flex-wrap:wrap;\n",
              "      gap: 12px;\n",
              "    }\n",
              "\n",
              "    .colab-df-convert {\n",
              "      background-color: #E8F0FE;\n",
              "      border: none;\n",
              "      border-radius: 50%;\n",
              "      cursor: pointer;\n",
              "      display: none;\n",
              "      fill: #1967D2;\n",
              "      height: 32px;\n",
              "      padding: 0 0 0 0;\n",
              "      width: 32px;\n",
              "    }\n",
              "\n",
              "    .colab-df-convert:hover {\n",
              "      background-color: #E2EBFA;\n",
              "      box-shadow: 0px 1px 2px rgba(60, 64, 67, 0.3), 0px 1px 3px 1px rgba(60, 64, 67, 0.15);\n",
              "      fill: #174EA6;\n",
              "    }\n",
              "\n",
              "    [theme=dark] .colab-df-convert {\n",
              "      background-color: #3B4455;\n",
              "      fill: #D2E3FC;\n",
              "    }\n",
              "\n",
              "    [theme=dark] .colab-df-convert:hover {\n",
              "      background-color: #434B5C;\n",
              "      box-shadow: 0px 1px 3px 1px rgba(0, 0, 0, 0.15);\n",
              "      filter: drop-shadow(0px 1px 2px rgba(0, 0, 0, 0.3));\n",
              "      fill: #FFFFFF;\n",
              "    }\n",
              "  </style>\n",
              "\n",
              "      <script>\n",
              "        const buttonEl =\n",
              "          document.querySelector('#df-391562a9-0584-4161-a9ee-21e5709dd259 button.colab-df-convert');\n",
              "        buttonEl.style.display =\n",
              "          google.colab.kernel.accessAllowed ? 'block' : 'none';\n",
              "\n",
              "        async function convertToInteractive(key) {\n",
              "          const element = document.querySelector('#df-391562a9-0584-4161-a9ee-21e5709dd259');\n",
              "          const dataTable =\n",
              "            await google.colab.kernel.invokeFunction('convertToInteractive',\n",
              "                                                     [key], {});\n",
              "          if (!dataTable) return;\n",
              "\n",
              "          const docLinkHtml = 'Like what you see? Visit the ' +\n",
              "            '<a target=\"_blank\" href=https://colab.research.google.com/notebooks/data_table.ipynb>data table notebook</a>'\n",
              "            + ' to learn more about interactive tables.';\n",
              "          element.innerHTML = '';\n",
              "          dataTable['output_type'] = 'display_data';\n",
              "          await google.colab.output.renderOutput(dataTable, element);\n",
              "          const docLink = document.createElement('div');\n",
              "          docLink.innerHTML = docLinkHtml;\n",
              "          element.appendChild(docLink);\n",
              "        }\n",
              "      </script>\n",
              "    </div>\n",
              "  </div>\n",
              "  "
            ]
          },
          "metadata": {},
          "execution_count": 3
        }
      ]
    },
    {
      "cell_type": "code",
      "source": [
        "# choose only one site for machine learning model \n",
        "site1 = df.drop(['lat_site_1','lon_site_1','lat_site_2','lon_site_2','lat_site_3','lon_site_3','lat_site_4','lon_site_4','CHL_2','CHL_3','CHL_4'],axis=1)"
      ],
      "metadata": {
        "id": "fpGGQtkBgFQj"
      },
      "execution_count": 4,
      "outputs": []
    },
    {
      "cell_type": "code",
      "source": [
        "site1"
      ],
      "metadata": {
        "colab": {
          "base_uri": "https://localhost:8080/",
          "height": 424
        },
        "id": "mzsoOTnL47d_",
        "outputId": "170c79ea-38f1-4ec0-af39-9f79d9e96ab5"
      },
      "execution_count": 5,
      "outputs": [
        {
          "output_type": "execute_result",
          "data": {
            "text/plain": [
              "            time     CHL_1\n",
              "0     2013-01-01  0.564678\n",
              "1     2013-01-02  0.564721\n",
              "2     2013-01-03  0.587605\n",
              "3     2013-01-04  0.442397\n",
              "4     2013-01-05  0.327515\n",
              "...          ...       ...\n",
              "2917  2020-12-27  3.216164\n",
              "2918  2020-12-28  3.149262\n",
              "2919  2020-12-29  2.152458\n",
              "2920  2020-12-30  1.799753\n",
              "2921  2020-12-31  1.802833\n",
              "\n",
              "[2922 rows x 2 columns]"
            ],
            "text/html": [
              "\n",
              "  <div id=\"df-c905415e-f7c3-470c-84b7-eb1ca7f827ba\">\n",
              "    <div class=\"colab-df-container\">\n",
              "      <div>\n",
              "<style scoped>\n",
              "    .dataframe tbody tr th:only-of-type {\n",
              "        vertical-align: middle;\n",
              "    }\n",
              "\n",
              "    .dataframe tbody tr th {\n",
              "        vertical-align: top;\n",
              "    }\n",
              "\n",
              "    .dataframe thead th {\n",
              "        text-align: right;\n",
              "    }\n",
              "</style>\n",
              "<table border=\"1\" class=\"dataframe\">\n",
              "  <thead>\n",
              "    <tr style=\"text-align: right;\">\n",
              "      <th></th>\n",
              "      <th>time</th>\n",
              "      <th>CHL_1</th>\n",
              "    </tr>\n",
              "  </thead>\n",
              "  <tbody>\n",
              "    <tr>\n",
              "      <th>0</th>\n",
              "      <td>2013-01-01</td>\n",
              "      <td>0.564678</td>\n",
              "    </tr>\n",
              "    <tr>\n",
              "      <th>1</th>\n",
              "      <td>2013-01-02</td>\n",
              "      <td>0.564721</td>\n",
              "    </tr>\n",
              "    <tr>\n",
              "      <th>2</th>\n",
              "      <td>2013-01-03</td>\n",
              "      <td>0.587605</td>\n",
              "    </tr>\n",
              "    <tr>\n",
              "      <th>3</th>\n",
              "      <td>2013-01-04</td>\n",
              "      <td>0.442397</td>\n",
              "    </tr>\n",
              "    <tr>\n",
              "      <th>4</th>\n",
              "      <td>2013-01-05</td>\n",
              "      <td>0.327515</td>\n",
              "    </tr>\n",
              "    <tr>\n",
              "      <th>...</th>\n",
              "      <td>...</td>\n",
              "      <td>...</td>\n",
              "    </tr>\n",
              "    <tr>\n",
              "      <th>2917</th>\n",
              "      <td>2020-12-27</td>\n",
              "      <td>3.216164</td>\n",
              "    </tr>\n",
              "    <tr>\n",
              "      <th>2918</th>\n",
              "      <td>2020-12-28</td>\n",
              "      <td>3.149262</td>\n",
              "    </tr>\n",
              "    <tr>\n",
              "      <th>2919</th>\n",
              "      <td>2020-12-29</td>\n",
              "      <td>2.152458</td>\n",
              "    </tr>\n",
              "    <tr>\n",
              "      <th>2920</th>\n",
              "      <td>2020-12-30</td>\n",
              "      <td>1.799753</td>\n",
              "    </tr>\n",
              "    <tr>\n",
              "      <th>2921</th>\n",
              "      <td>2020-12-31</td>\n",
              "      <td>1.802833</td>\n",
              "    </tr>\n",
              "  </tbody>\n",
              "</table>\n",
              "<p>2922 rows × 2 columns</p>\n",
              "</div>\n",
              "      <button class=\"colab-df-convert\" onclick=\"convertToInteractive('df-c905415e-f7c3-470c-84b7-eb1ca7f827ba')\"\n",
              "              title=\"Convert this dataframe to an interactive table.\"\n",
              "              style=\"display:none;\">\n",
              "        \n",
              "  <svg xmlns=\"http://www.w3.org/2000/svg\" height=\"24px\"viewBox=\"0 0 24 24\"\n",
              "       width=\"24px\">\n",
              "    <path d=\"M0 0h24v24H0V0z\" fill=\"none\"/>\n",
              "    <path d=\"M18.56 5.44l.94 2.06.94-2.06 2.06-.94-2.06-.94-.94-2.06-.94 2.06-2.06.94zm-11 1L8.5 8.5l.94-2.06 2.06-.94-2.06-.94L8.5 2.5l-.94 2.06-2.06.94zm10 10l.94 2.06.94-2.06 2.06-.94-2.06-.94-.94-2.06-.94 2.06-2.06.94z\"/><path d=\"M17.41 7.96l-1.37-1.37c-.4-.4-.92-.59-1.43-.59-.52 0-1.04.2-1.43.59L10.3 9.45l-7.72 7.72c-.78.78-.78 2.05 0 2.83L4 21.41c.39.39.9.59 1.41.59.51 0 1.02-.2 1.41-.59l7.78-7.78 2.81-2.81c.8-.78.8-2.07 0-2.86zM5.41 20L4 18.59l7.72-7.72 1.47 1.35L5.41 20z\"/>\n",
              "  </svg>\n",
              "      </button>\n",
              "      \n",
              "  <style>\n",
              "    .colab-df-container {\n",
              "      display:flex;\n",
              "      flex-wrap:wrap;\n",
              "      gap: 12px;\n",
              "    }\n",
              "\n",
              "    .colab-df-convert {\n",
              "      background-color: #E8F0FE;\n",
              "      border: none;\n",
              "      border-radius: 50%;\n",
              "      cursor: pointer;\n",
              "      display: none;\n",
              "      fill: #1967D2;\n",
              "      height: 32px;\n",
              "      padding: 0 0 0 0;\n",
              "      width: 32px;\n",
              "    }\n",
              "\n",
              "    .colab-df-convert:hover {\n",
              "      background-color: #E2EBFA;\n",
              "      box-shadow: 0px 1px 2px rgba(60, 64, 67, 0.3), 0px 1px 3px 1px rgba(60, 64, 67, 0.15);\n",
              "      fill: #174EA6;\n",
              "    }\n",
              "\n",
              "    [theme=dark] .colab-df-convert {\n",
              "      background-color: #3B4455;\n",
              "      fill: #D2E3FC;\n",
              "    }\n",
              "\n",
              "    [theme=dark] .colab-df-convert:hover {\n",
              "      background-color: #434B5C;\n",
              "      box-shadow: 0px 1px 3px 1px rgba(0, 0, 0, 0.15);\n",
              "      filter: drop-shadow(0px 1px 2px rgba(0, 0, 0, 0.3));\n",
              "      fill: #FFFFFF;\n",
              "    }\n",
              "  </style>\n",
              "\n",
              "      <script>\n",
              "        const buttonEl =\n",
              "          document.querySelector('#df-c905415e-f7c3-470c-84b7-eb1ca7f827ba button.colab-df-convert');\n",
              "        buttonEl.style.display =\n",
              "          google.colab.kernel.accessAllowed ? 'block' : 'none';\n",
              "\n",
              "        async function convertToInteractive(key) {\n",
              "          const element = document.querySelector('#df-c905415e-f7c3-470c-84b7-eb1ca7f827ba');\n",
              "          const dataTable =\n",
              "            await google.colab.kernel.invokeFunction('convertToInteractive',\n",
              "                                                     [key], {});\n",
              "          if (!dataTable) return;\n",
              "\n",
              "          const docLinkHtml = 'Like what you see? Visit the ' +\n",
              "            '<a target=\"_blank\" href=https://colab.research.google.com/notebooks/data_table.ipynb>data table notebook</a>'\n",
              "            + ' to learn more about interactive tables.';\n",
              "          element.innerHTML = '';\n",
              "          dataTable['output_type'] = 'display_data';\n",
              "          await google.colab.output.renderOutput(dataTable, element);\n",
              "          const docLink = document.createElement('div');\n",
              "          docLink.innerHTML = docLinkHtml;\n",
              "          element.appendChild(docLink);\n",
              "        }\n",
              "      </script>\n",
              "    </div>\n",
              "  </div>\n",
              "  "
            ]
          },
          "metadata": {},
          "execution_count": 5
        }
      ]
    },
    {
      "cell_type": "code",
      "source": [
        "site1 = site1.set_index('time')"
      ],
      "metadata": {
        "id": "W3ce7vMx44D6"
      },
      "execution_count": 6,
      "outputs": []
    },
    {
      "cell_type": "code",
      "source": [
        "# choose data from 2018-01-01 onwards for training \n",
        "# df = df[df['date']>\"2017-12-31\"].set_index('date')"
      ],
      "metadata": {
        "id": "VYGyjgykE1TU"
      },
      "execution_count": 7,
      "outputs": []
    },
    {
      "cell_type": "code",
      "source": [
        "factor = site1.CHL_1.max()\n",
        "factor"
      ],
      "metadata": {
        "colab": {
          "base_uri": "https://localhost:8080/"
        },
        "id": "YoiGFdkvvnyH",
        "outputId": "65f5c734-4b65-4466-d33f-603cdeddf477"
      },
      "execution_count": 8,
      "outputs": [
        {
          "output_type": "execute_result",
          "data": {
            "text/plain": [
              "26.775383"
            ]
          },
          "metadata": {},
          "execution_count": 8
        }
      ]
    },
    {
      "cell_type": "code",
      "source": [
        "# normalise chl data, sst and par\n",
        "site1['CHL_1']=site1['CHL_1']/factor\n",
        "#df['analysed_sst']=df['analysed_sst']/df.analysed_sst.max()\n",
        "#df['PAR_mean']=df['PAR_mean']/df.PAR_mean.max()"
      ],
      "metadata": {
        "id": "CclZ1VqGdjWV"
      },
      "execution_count": 9,
      "outputs": []
    },
    {
      "cell_type": "code",
      "source": [
        "site1.to_numpy()\n"
      ],
      "metadata": {
        "colab": {
          "base_uri": "https://localhost:8080/"
        },
        "id": "rI3Z332Bhn3e",
        "outputId": "d879d820-2260-4634-c8d2-5da9654f2c5f"
      },
      "execution_count": 10,
      "outputs": [
        {
          "output_type": "execute_result",
          "data": {
            "text/plain": [
              "array([[0.02108944],\n",
              "       [0.02109106],\n",
              "       [0.02194572],\n",
              "       ...,\n",
              "       [0.08038944],\n",
              "       [0.06721672],\n",
              "       [0.06733175]])"
            ]
          },
          "metadata": {},
          "execution_count": 10
        }
      ]
    },
    {
      "cell_type": "code",
      "source": [
        "# from the dataset, we then now extract the neccessary data into the input and output\n",
        "# since we plan to use a LSTM model to learn the time-series pattern, we decide to use a window size of 7\n",
        "# hence, we define a function to achieve that\n",
        "\n",
        "def get_X_Y(df,window=6):\n",
        "    df_numpy = df.to_numpy()\n",
        "    x = []\n",
        "    y = []\n",
        "    \n",
        "    for i in range(len(df_numpy)-window):\n",
        "        row = df_numpy[i:i+window]\n",
        "        x.append(row)\n",
        "        \n",
        "        label = df_numpy[i+window]\n",
        "        y.append(label)\n",
        "        \n",
        "    return np.array(x),np.array(y)"
      ],
      "metadata": {
        "id": "E5NoCcASdtJA"
      },
      "execution_count": 11,
      "outputs": []
    },
    {
      "cell_type": "code",
      "source": [
        "x,y = get_X_Y(site1)"
      ],
      "metadata": {
        "id": "1OsVQ9rfdw4c"
      },
      "execution_count": 12,
      "outputs": []
    },
    {
      "cell_type": "code",
      "source": [
        "# examine the shape of input and output\n",
        "x.shape, y.shape"
      ],
      "metadata": {
        "colab": {
          "base_uri": "https://localhost:8080/"
        },
        "id": "gJy26MgcdzMS",
        "outputId": "07f04ac8-1de2-4cb2-fb39-bec457aac363"
      },
      "execution_count": 13,
      "outputs": [
        {
          "output_type": "execute_result",
          "data": {
            "text/plain": [
              "((2916, 6, 1), (2916, 1))"
            ]
          },
          "metadata": {},
          "execution_count": 13
        }
      ]
    },
    {
      "cell_type": "code",
      "source": [
        "# reshaping the y data input shape\n",
        "y = y.reshape(2916)"
      ],
      "metadata": {
        "id": "yVFi820u4d_J"
      },
      "execution_count": 14,
      "outputs": []
    },
    {
      "cell_type": "code",
      "source": [
        "2916*10/100"
      ],
      "metadata": {
        "colab": {
          "base_uri": "https://localhost:8080/"
        },
        "id": "RwYwU5JIi1bB",
        "outputId": "3b0d086f-0b98-49d9-e15b-7de77a8f1ed9"
      },
      "execution_count": 15,
      "outputs": [
        {
          "output_type": "execute_result",
          "data": {
            "text/plain": [
              "291.6"
            ]
          },
          "metadata": {},
          "execution_count": 15
        }
      ]
    },
    {
      "cell_type": "code",
      "source": [
        "x_train,y_train = x[0:2332], y[0:2332]  #2013-2018. #80%\n",
        "x_val,y_val=x[2332:2623], y[2332:2623]  # 2019.    #10%\n",
        "x_test,y_test=x[2623:2915], y[2623:2915] # 2020     #10%"
      ],
      "metadata": {
        "id": "Vsn4W04Od2-u"
      },
      "execution_count": 16,
      "outputs": []
    },
    {
      "cell_type": "code",
      "source": [
        "x_train.shape,y_train.shape,x_val.shape,y_val.shape,x_test.shape,y_test.shape"
      ],
      "metadata": {
        "colab": {
          "base_uri": "https://localhost:8080/"
        },
        "id": "PM6LbByZd5iD",
        "outputId": "d5a5f0d2-7dc1-4edd-bfd5-1258fc570dcf"
      },
      "execution_count": 17,
      "outputs": [
        {
          "output_type": "execute_result",
          "data": {
            "text/plain": [
              "((2332, 6, 1), (2332,), (291, 6, 1), (291,), (292, 6, 1), (292,))"
            ]
          },
          "metadata": {},
          "execution_count": 17
        }
      ]
    },
    {
      "cell_type": "code",
      "source": [
        "from tensorflow.keras.optimizers import Adam"
      ],
      "metadata": {
        "id": "2r0wrsCMzthB"
      },
      "execution_count": 18,
      "outputs": []
    },
    {
      "cell_type": "code",
      "source": [
        "opt1 = Adam(learning_rate=0.01)"
      ],
      "metadata": {
        "id": "183Prnh3z-Wq"
      },
      "execution_count": 19,
      "outputs": []
    },
    {
      "cell_type": "code",
      "source": [
        "# building the model\n",
        "\n",
        "model = Sequential()\n",
        "#model.add(MaxPool1D(pool_size=2,input_shape=(6,3)))\n",
        "#model.add(Conv1D(filters=64, kernel_size=3,input_shape=(6,3),activation='relu'))\n",
        "#model.add(Dropout(0.2))\n",
        "model.add(LSTM(64, activation='tanh',return_sequences=True,input_shape=(6,1))) #return_sequence = False\n",
        "model.add(Dropout(0.2))\n",
        "model.add(LSTM(32, activation='tanh'))\n",
        "#model.add(LSTM(64, activation='tanh'))\n",
        "#model.add(Dense(60,activation='relu',input_shape=(6,1)))\n",
        "model.add(Dropout(0.2))\n",
        "#model.add(Dense(32,activation='relu'))\n",
        "model.add(Dense(30,activation='relu'))\n",
        "model.add(Dense(1,activation='sigmoid'))\n",
        "model.summary()"
      ],
      "metadata": {
        "colab": {
          "base_uri": "https://localhost:8080/"
        },
        "id": "3JaLf2r7d9ai",
        "outputId": "971811ef-0487-4d08-8efd-21234dd13c66"
      },
      "execution_count": 21,
      "outputs": [
        {
          "output_type": "stream",
          "name": "stdout",
          "text": [
            "Model: \"sequential_1\"\n",
            "_________________________________________________________________\n",
            " Layer (type)                Output Shape              Param #   \n",
            "=================================================================\n",
            " lstm_2 (LSTM)               (None, 6, 64)             16896     \n",
            "                                                                 \n",
            " dropout_2 (Dropout)         (None, 6, 64)             0         \n",
            "                                                                 \n",
            " lstm_3 (LSTM)               (None, 32)                12416     \n",
            "                                                                 \n",
            " dropout_3 (Dropout)         (None, 32)                0         \n",
            "                                                                 \n",
            " dense_2 (Dense)             (None, 30)                990       \n",
            "                                                                 \n",
            " dense_3 (Dense)             (None, 1)                 31        \n",
            "                                                                 \n",
            "=================================================================\n",
            "Total params: 30,333\n",
            "Trainable params: 30,333\n",
            "Non-trainable params: 0\n",
            "_________________________________________________________________\n"
          ]
        }
      ]
    },
    {
      "cell_type": "code",
      "source": [
        "model.compile(loss='mean_squared_error', optimizer='adam',metrics=['mean_absolute_error'])"
      ],
      "metadata": {
        "id": "02uUx45DeBqW"
      },
      "execution_count": 22,
      "outputs": []
    },
    {
      "cell_type": "code",
      "source": [
        "model.fit(x_train,y_train,validation_data=(x_val,y_val),verbose=1,epochs=30,batch_size=6)"
      ],
      "metadata": {
        "colab": {
          "base_uri": "https://localhost:8080/"
        },
        "id": "kYJYztCseQHd",
        "outputId": "eb1174e3-9ae6-45a8-b53b-3e326ad5d5f6"
      },
      "execution_count": 23,
      "outputs": [
        {
          "output_type": "stream",
          "name": "stdout",
          "text": [
            "Epoch 1/30\n",
            "389/389 [==============================] - 6s 7ms/step - loss: 0.0174 - mean_absolute_error: 0.0550 - val_loss: 7.3764e-04 - val_mean_absolute_error: 0.0150\n",
            "Epoch 2/30\n",
            "389/389 [==============================] - 3s 7ms/step - loss: 0.0023 - mean_absolute_error: 0.0188 - val_loss: 6.6131e-04 - val_mean_absolute_error: 0.0159\n",
            "Epoch 3/30\n",
            "389/389 [==============================] - 3s 7ms/step - loss: 0.0023 - mean_absolute_error: 0.0191 - val_loss: 6.7070e-04 - val_mean_absolute_error: 0.0153\n",
            "Epoch 4/30\n",
            "389/389 [==============================] - 2s 6ms/step - loss: 0.0022 - mean_absolute_error: 0.0188 - val_loss: 6.3919e-04 - val_mean_absolute_error: 0.0160\n",
            "Epoch 5/30\n",
            "389/389 [==============================] - 3s 6ms/step - loss: 0.0022 - mean_absolute_error: 0.0188 - val_loss: 6.1780e-04 - val_mean_absolute_error: 0.0177\n",
            "Epoch 6/30\n",
            "389/389 [==============================] - 2s 6ms/step - loss: 0.0021 - mean_absolute_error: 0.0188 - val_loss: 8.2543e-04 - val_mean_absolute_error: 0.0158\n",
            "Epoch 7/30\n",
            "389/389 [==============================] - 2s 6ms/step - loss: 0.0021 - mean_absolute_error: 0.0188 - val_loss: 7.1489e-04 - val_mean_absolute_error: 0.0141\n",
            "Epoch 8/30\n",
            "389/389 [==============================] - 3s 7ms/step - loss: 0.0020 - mean_absolute_error: 0.0185 - val_loss: 5.6496e-04 - val_mean_absolute_error: 0.0173\n",
            "Epoch 9/30\n",
            "389/389 [==============================] - 3s 7ms/step - loss: 0.0019 - mean_absolute_error: 0.0180 - val_loss: 5.5440e-04 - val_mean_absolute_error: 0.0133\n",
            "Epoch 10/30\n",
            "389/389 [==============================] - 2s 6ms/step - loss: 0.0019 - mean_absolute_error: 0.0173 - val_loss: 6.9460e-04 - val_mean_absolute_error: 0.0144\n",
            "Epoch 11/30\n",
            "389/389 [==============================] - 3s 7ms/step - loss: 0.0019 - mean_absolute_error: 0.0169 - val_loss: 5.2015e-04 - val_mean_absolute_error: 0.0128\n",
            "Epoch 12/30\n",
            "389/389 [==============================] - 3s 7ms/step - loss: 0.0018 - mean_absolute_error: 0.0168 - val_loss: 4.9731e-04 - val_mean_absolute_error: 0.0162\n",
            "Epoch 13/30\n",
            "389/389 [==============================] - 3s 6ms/step - loss: 0.0018 - mean_absolute_error: 0.0166 - val_loss: 4.9605e-04 - val_mean_absolute_error: 0.0170\n",
            "Epoch 14/30\n",
            "389/389 [==============================] - 2s 6ms/step - loss: 0.0018 - mean_absolute_error: 0.0169 - val_loss: 4.5798e-04 - val_mean_absolute_error: 0.0137\n",
            "Epoch 15/30\n",
            "389/389 [==============================] - 2s 6ms/step - loss: 0.0018 - mean_absolute_error: 0.0168 - val_loss: 5.7718e-04 - val_mean_absolute_error: 0.0133\n",
            "Epoch 16/30\n",
            "389/389 [==============================] - 3s 6ms/step - loss: 0.0017 - mean_absolute_error: 0.0162 - val_loss: 5.4680e-04 - val_mean_absolute_error: 0.0128\n",
            "Epoch 17/30\n",
            "389/389 [==============================] - 3s 7ms/step - loss: 0.0017 - mean_absolute_error: 0.0168 - val_loss: 4.2244e-04 - val_mean_absolute_error: 0.0121\n",
            "Epoch 18/30\n",
            "389/389 [==============================] - 3s 7ms/step - loss: 0.0017 - mean_absolute_error: 0.0156 - val_loss: 4.1270e-04 - val_mean_absolute_error: 0.0125\n",
            "Epoch 19/30\n",
            "389/389 [==============================] - 3s 8ms/step - loss: 0.0017 - mean_absolute_error: 0.0161 - val_loss: 4.2990e-04 - val_mean_absolute_error: 0.0115\n",
            "Epoch 20/30\n",
            "389/389 [==============================] - 3s 8ms/step - loss: 0.0016 - mean_absolute_error: 0.0157 - val_loss: 4.4690e-04 - val_mean_absolute_error: 0.0115\n",
            "Epoch 21/30\n",
            "389/389 [==============================] - 2s 6ms/step - loss: 0.0016 - mean_absolute_error: 0.0156 - val_loss: 4.0995e-04 - val_mean_absolute_error: 0.0116\n",
            "Epoch 22/30\n",
            "389/389 [==============================] - 2s 6ms/step - loss: 0.0017 - mean_absolute_error: 0.0153 - val_loss: 4.1928e-04 - val_mean_absolute_error: 0.0114\n",
            "Epoch 23/30\n",
            "389/389 [==============================] - 2s 6ms/step - loss: 0.0017 - mean_absolute_error: 0.0153 - val_loss: 3.5966e-04 - val_mean_absolute_error: 0.0119\n",
            "Epoch 24/30\n",
            "389/389 [==============================] - 3s 7ms/step - loss: 0.0015 - mean_absolute_error: 0.0149 - val_loss: 3.6601e-04 - val_mean_absolute_error: 0.0109\n",
            "Epoch 25/30\n",
            "389/389 [==============================] - 3s 7ms/step - loss: 0.0016 - mean_absolute_error: 0.0154 - val_loss: 3.3945e-04 - val_mean_absolute_error: 0.0108\n",
            "Epoch 26/30\n",
            "389/389 [==============================] - 2s 6ms/step - loss: 0.0016 - mean_absolute_error: 0.0151 - val_loss: 3.1447e-04 - val_mean_absolute_error: 0.0123\n",
            "Epoch 27/30\n",
            "389/389 [==============================] - 2s 6ms/step - loss: 0.0015 - mean_absolute_error: 0.0148 - val_loss: 4.0975e-04 - val_mean_absolute_error: 0.0117\n",
            "Epoch 28/30\n",
            "389/389 [==============================] - 2s 6ms/step - loss: 0.0016 - mean_absolute_error: 0.0153 - val_loss: 3.2199e-04 - val_mean_absolute_error: 0.0107\n",
            "Epoch 29/30\n",
            "389/389 [==============================] - 3s 7ms/step - loss: 0.0016 - mean_absolute_error: 0.0148 - val_loss: 3.0632e-04 - val_mean_absolute_error: 0.0104\n",
            "Epoch 30/30\n",
            "389/389 [==============================] - 3s 6ms/step - loss: 0.0015 - mean_absolute_error: 0.0150 - val_loss: 4.0059e-04 - val_mean_absolute_error: 0.0111\n"
          ]
        },
        {
          "output_type": "execute_result",
          "data": {
            "text/plain": [
              "<keras.callbacks.History at 0x7f80c14b9ee0>"
            ]
          },
          "metadata": {},
          "execution_count": 23
        }
      ]
    },
    {
      "cell_type": "code",
      "source": [
        "b = model.predict(x_test)"
      ],
      "metadata": {
        "colab": {
          "base_uri": "https://localhost:8080/"
        },
        "id": "n0fjWnhYe6ru",
        "outputId": "ced328b3-47ed-4e58-8143-b856ae6c98ab"
      },
      "execution_count": 37,
      "outputs": [
        {
          "output_type": "stream",
          "name": "stdout",
          "text": [
            "10/10 [==============================] - 1s 2ms/step\n"
          ]
        }
      ]
    },
    {
      "cell_type": "code",
      "source": [
        "train_result=pd.DataFrame({'predicted':b.flatten(),'actual':y_test.flatten()})\n",
        "train_result"
      ],
      "metadata": {
        "colab": {
          "base_uri": "https://localhost:8080/",
          "height": 424
        },
        "id": "T-KO0U9PfDjw",
        "outputId": "3f8656af-a1f0-42f2-b33f-e29eefc620ea"
      },
      "execution_count": 38,
      "outputs": [
        {
          "output_type": "execute_result",
          "data": {
            "text/plain": [
              "     predicted    actual\n",
              "0     0.015188  0.021591\n",
              "1     0.016265  0.024580\n",
              "2     0.017695  0.082748\n",
              "3     0.036800  0.044850\n",
              "4     0.041038  0.053852\n",
              "..         ...       ...\n",
              "287   0.044804  0.049007\n",
              "288   0.044596  0.120116\n",
              "289   0.078559  0.117618\n",
              "290   0.102550  0.080389\n",
              "291   0.093949  0.067217\n",
              "\n",
              "[292 rows x 2 columns]"
            ],
            "text/html": [
              "\n",
              "  <div id=\"df-62b8a428-a6fc-4807-815c-87bfef231cfb\">\n",
              "    <div class=\"colab-df-container\">\n",
              "      <div>\n",
              "<style scoped>\n",
              "    .dataframe tbody tr th:only-of-type {\n",
              "        vertical-align: middle;\n",
              "    }\n",
              "\n",
              "    .dataframe tbody tr th {\n",
              "        vertical-align: top;\n",
              "    }\n",
              "\n",
              "    .dataframe thead th {\n",
              "        text-align: right;\n",
              "    }\n",
              "</style>\n",
              "<table border=\"1\" class=\"dataframe\">\n",
              "  <thead>\n",
              "    <tr style=\"text-align: right;\">\n",
              "      <th></th>\n",
              "      <th>predicted</th>\n",
              "      <th>actual</th>\n",
              "    </tr>\n",
              "  </thead>\n",
              "  <tbody>\n",
              "    <tr>\n",
              "      <th>0</th>\n",
              "      <td>0.015188</td>\n",
              "      <td>0.021591</td>\n",
              "    </tr>\n",
              "    <tr>\n",
              "      <th>1</th>\n",
              "      <td>0.016265</td>\n",
              "      <td>0.024580</td>\n",
              "    </tr>\n",
              "    <tr>\n",
              "      <th>2</th>\n",
              "      <td>0.017695</td>\n",
              "      <td>0.082748</td>\n",
              "    </tr>\n",
              "    <tr>\n",
              "      <th>3</th>\n",
              "      <td>0.036800</td>\n",
              "      <td>0.044850</td>\n",
              "    </tr>\n",
              "    <tr>\n",
              "      <th>4</th>\n",
              "      <td>0.041038</td>\n",
              "      <td>0.053852</td>\n",
              "    </tr>\n",
              "    <tr>\n",
              "      <th>...</th>\n",
              "      <td>...</td>\n",
              "      <td>...</td>\n",
              "    </tr>\n",
              "    <tr>\n",
              "      <th>287</th>\n",
              "      <td>0.044804</td>\n",
              "      <td>0.049007</td>\n",
              "    </tr>\n",
              "    <tr>\n",
              "      <th>288</th>\n",
              "      <td>0.044596</td>\n",
              "      <td>0.120116</td>\n",
              "    </tr>\n",
              "    <tr>\n",
              "      <th>289</th>\n",
              "      <td>0.078559</td>\n",
              "      <td>0.117618</td>\n",
              "    </tr>\n",
              "    <tr>\n",
              "      <th>290</th>\n",
              "      <td>0.102550</td>\n",
              "      <td>0.080389</td>\n",
              "    </tr>\n",
              "    <tr>\n",
              "      <th>291</th>\n",
              "      <td>0.093949</td>\n",
              "      <td>0.067217</td>\n",
              "    </tr>\n",
              "  </tbody>\n",
              "</table>\n",
              "<p>292 rows × 2 columns</p>\n",
              "</div>\n",
              "      <button class=\"colab-df-convert\" onclick=\"convertToInteractive('df-62b8a428-a6fc-4807-815c-87bfef231cfb')\"\n",
              "              title=\"Convert this dataframe to an interactive table.\"\n",
              "              style=\"display:none;\">\n",
              "        \n",
              "  <svg xmlns=\"http://www.w3.org/2000/svg\" height=\"24px\"viewBox=\"0 0 24 24\"\n",
              "       width=\"24px\">\n",
              "    <path d=\"M0 0h24v24H0V0z\" fill=\"none\"/>\n",
              "    <path d=\"M18.56 5.44l.94 2.06.94-2.06 2.06-.94-2.06-.94-.94-2.06-.94 2.06-2.06.94zm-11 1L8.5 8.5l.94-2.06 2.06-.94-2.06-.94L8.5 2.5l-.94 2.06-2.06.94zm10 10l.94 2.06.94-2.06 2.06-.94-2.06-.94-.94-2.06-.94 2.06-2.06.94z\"/><path d=\"M17.41 7.96l-1.37-1.37c-.4-.4-.92-.59-1.43-.59-.52 0-1.04.2-1.43.59L10.3 9.45l-7.72 7.72c-.78.78-.78 2.05 0 2.83L4 21.41c.39.39.9.59 1.41.59.51 0 1.02-.2 1.41-.59l7.78-7.78 2.81-2.81c.8-.78.8-2.07 0-2.86zM5.41 20L4 18.59l7.72-7.72 1.47 1.35L5.41 20z\"/>\n",
              "  </svg>\n",
              "      </button>\n",
              "      \n",
              "  <style>\n",
              "    .colab-df-container {\n",
              "      display:flex;\n",
              "      flex-wrap:wrap;\n",
              "      gap: 12px;\n",
              "    }\n",
              "\n",
              "    .colab-df-convert {\n",
              "      background-color: #E8F0FE;\n",
              "      border: none;\n",
              "      border-radius: 50%;\n",
              "      cursor: pointer;\n",
              "      display: none;\n",
              "      fill: #1967D2;\n",
              "      height: 32px;\n",
              "      padding: 0 0 0 0;\n",
              "      width: 32px;\n",
              "    }\n",
              "\n",
              "    .colab-df-convert:hover {\n",
              "      background-color: #E2EBFA;\n",
              "      box-shadow: 0px 1px 2px rgba(60, 64, 67, 0.3), 0px 1px 3px 1px rgba(60, 64, 67, 0.15);\n",
              "      fill: #174EA6;\n",
              "    }\n",
              "\n",
              "    [theme=dark] .colab-df-convert {\n",
              "      background-color: #3B4455;\n",
              "      fill: #D2E3FC;\n",
              "    }\n",
              "\n",
              "    [theme=dark] .colab-df-convert:hover {\n",
              "      background-color: #434B5C;\n",
              "      box-shadow: 0px 1px 3px 1px rgba(0, 0, 0, 0.15);\n",
              "      filter: drop-shadow(0px 1px 2px rgba(0, 0, 0, 0.3));\n",
              "      fill: #FFFFFF;\n",
              "    }\n",
              "  </style>\n",
              "\n",
              "      <script>\n",
              "        const buttonEl =\n",
              "          document.querySelector('#df-62b8a428-a6fc-4807-815c-87bfef231cfb button.colab-df-convert');\n",
              "        buttonEl.style.display =\n",
              "          google.colab.kernel.accessAllowed ? 'block' : 'none';\n",
              "\n",
              "        async function convertToInteractive(key) {\n",
              "          const element = document.querySelector('#df-62b8a428-a6fc-4807-815c-87bfef231cfb');\n",
              "          const dataTable =\n",
              "            await google.colab.kernel.invokeFunction('convertToInteractive',\n",
              "                                                     [key], {});\n",
              "          if (!dataTable) return;\n",
              "\n",
              "          const docLinkHtml = 'Like what you see? Visit the ' +\n",
              "            '<a target=\"_blank\" href=https://colab.research.google.com/notebooks/data_table.ipynb>data table notebook</a>'\n",
              "            + ' to learn more about interactive tables.';\n",
              "          element.innerHTML = '';\n",
              "          dataTable['output_type'] = 'display_data';\n",
              "          await google.colab.output.renderOutput(dataTable, element);\n",
              "          const docLink = document.createElement('div');\n",
              "          docLink.innerHTML = docLinkHtml;\n",
              "          element.appendChild(docLink);\n",
              "        }\n",
              "      </script>\n",
              "    </div>\n",
              "  </div>\n",
              "  "
            ]
          },
          "metadata": {},
          "execution_count": 38
        }
      ]
    },
    {
      "cell_type": "code",
      "source": [
        "factor"
      ],
      "metadata": {
        "colab": {
          "base_uri": "https://localhost:8080/"
        },
        "id": "z-1AtWuFhe0G",
        "outputId": "c13ff4f2-4fda-4bde-a755-a881ba73d49b"
      },
      "execution_count": 39,
      "outputs": [
        {
          "output_type": "execute_result",
          "data": {
            "text/plain": [
              "26.775383"
            ]
          },
          "metadata": {},
          "execution_count": 39
        }
      ]
    },
    {
      "cell_type": "code",
      "source": [
        "# factor back the original concentration of chlorophyll a\n",
        "train_result['predicted']=train_result['predicted']*factor\n",
        "train_result['actual']=train_result['actual']*factor\n",
        "train_result"
      ],
      "metadata": {
        "colab": {
          "base_uri": "https://localhost:8080/",
          "height": 424
        },
        "id": "98p6KPMqfGZG",
        "outputId": "444bad1f-b6cd-4d5c-927c-0b9680de22f7"
      },
      "execution_count": 40,
      "outputs": [
        {
          "output_type": "execute_result",
          "data": {
            "text/plain": [
              "     predicted    actual\n",
              "0     0.406661  0.578099\n",
              "1     0.435510  0.658127\n",
              "2     0.473784  2.215607\n",
              "3     0.985343  1.200867\n",
              "4     1.098821  1.441913\n",
              "..         ...       ...\n",
              "287   1.199645  1.312185\n",
              "288   1.194082  3.216164\n",
              "289   2.103434  3.149262\n",
              "290   2.745803  2.152458\n",
              "291   2.515511  1.799753\n",
              "\n",
              "[292 rows x 2 columns]"
            ],
            "text/html": [
              "\n",
              "  <div id=\"df-ad9b8f94-9a60-4717-820f-d9f79b279ff9\">\n",
              "    <div class=\"colab-df-container\">\n",
              "      <div>\n",
              "<style scoped>\n",
              "    .dataframe tbody tr th:only-of-type {\n",
              "        vertical-align: middle;\n",
              "    }\n",
              "\n",
              "    .dataframe tbody tr th {\n",
              "        vertical-align: top;\n",
              "    }\n",
              "\n",
              "    .dataframe thead th {\n",
              "        text-align: right;\n",
              "    }\n",
              "</style>\n",
              "<table border=\"1\" class=\"dataframe\">\n",
              "  <thead>\n",
              "    <tr style=\"text-align: right;\">\n",
              "      <th></th>\n",
              "      <th>predicted</th>\n",
              "      <th>actual</th>\n",
              "    </tr>\n",
              "  </thead>\n",
              "  <tbody>\n",
              "    <tr>\n",
              "      <th>0</th>\n",
              "      <td>0.406661</td>\n",
              "      <td>0.578099</td>\n",
              "    </tr>\n",
              "    <tr>\n",
              "      <th>1</th>\n",
              "      <td>0.435510</td>\n",
              "      <td>0.658127</td>\n",
              "    </tr>\n",
              "    <tr>\n",
              "      <th>2</th>\n",
              "      <td>0.473784</td>\n",
              "      <td>2.215607</td>\n",
              "    </tr>\n",
              "    <tr>\n",
              "      <th>3</th>\n",
              "      <td>0.985343</td>\n",
              "      <td>1.200867</td>\n",
              "    </tr>\n",
              "    <tr>\n",
              "      <th>4</th>\n",
              "      <td>1.098821</td>\n",
              "      <td>1.441913</td>\n",
              "    </tr>\n",
              "    <tr>\n",
              "      <th>...</th>\n",
              "      <td>...</td>\n",
              "      <td>...</td>\n",
              "    </tr>\n",
              "    <tr>\n",
              "      <th>287</th>\n",
              "      <td>1.199645</td>\n",
              "      <td>1.312185</td>\n",
              "    </tr>\n",
              "    <tr>\n",
              "      <th>288</th>\n",
              "      <td>1.194082</td>\n",
              "      <td>3.216164</td>\n",
              "    </tr>\n",
              "    <tr>\n",
              "      <th>289</th>\n",
              "      <td>2.103434</td>\n",
              "      <td>3.149262</td>\n",
              "    </tr>\n",
              "    <tr>\n",
              "      <th>290</th>\n",
              "      <td>2.745803</td>\n",
              "      <td>2.152458</td>\n",
              "    </tr>\n",
              "    <tr>\n",
              "      <th>291</th>\n",
              "      <td>2.515511</td>\n",
              "      <td>1.799753</td>\n",
              "    </tr>\n",
              "  </tbody>\n",
              "</table>\n",
              "<p>292 rows × 2 columns</p>\n",
              "</div>\n",
              "      <button class=\"colab-df-convert\" onclick=\"convertToInteractive('df-ad9b8f94-9a60-4717-820f-d9f79b279ff9')\"\n",
              "              title=\"Convert this dataframe to an interactive table.\"\n",
              "              style=\"display:none;\">\n",
              "        \n",
              "  <svg xmlns=\"http://www.w3.org/2000/svg\" height=\"24px\"viewBox=\"0 0 24 24\"\n",
              "       width=\"24px\">\n",
              "    <path d=\"M0 0h24v24H0V0z\" fill=\"none\"/>\n",
              "    <path d=\"M18.56 5.44l.94 2.06.94-2.06 2.06-.94-2.06-.94-.94-2.06-.94 2.06-2.06.94zm-11 1L8.5 8.5l.94-2.06 2.06-.94-2.06-.94L8.5 2.5l-.94 2.06-2.06.94zm10 10l.94 2.06.94-2.06 2.06-.94-2.06-.94-.94-2.06-.94 2.06-2.06.94z\"/><path d=\"M17.41 7.96l-1.37-1.37c-.4-.4-.92-.59-1.43-.59-.52 0-1.04.2-1.43.59L10.3 9.45l-7.72 7.72c-.78.78-.78 2.05 0 2.83L4 21.41c.39.39.9.59 1.41.59.51 0 1.02-.2 1.41-.59l7.78-7.78 2.81-2.81c.8-.78.8-2.07 0-2.86zM5.41 20L4 18.59l7.72-7.72 1.47 1.35L5.41 20z\"/>\n",
              "  </svg>\n",
              "      </button>\n",
              "      \n",
              "  <style>\n",
              "    .colab-df-container {\n",
              "      display:flex;\n",
              "      flex-wrap:wrap;\n",
              "      gap: 12px;\n",
              "    }\n",
              "\n",
              "    .colab-df-convert {\n",
              "      background-color: #E8F0FE;\n",
              "      border: none;\n",
              "      border-radius: 50%;\n",
              "      cursor: pointer;\n",
              "      display: none;\n",
              "      fill: #1967D2;\n",
              "      height: 32px;\n",
              "      padding: 0 0 0 0;\n",
              "      width: 32px;\n",
              "    }\n",
              "\n",
              "    .colab-df-convert:hover {\n",
              "      background-color: #E2EBFA;\n",
              "      box-shadow: 0px 1px 2px rgba(60, 64, 67, 0.3), 0px 1px 3px 1px rgba(60, 64, 67, 0.15);\n",
              "      fill: #174EA6;\n",
              "    }\n",
              "\n",
              "    [theme=dark] .colab-df-convert {\n",
              "      background-color: #3B4455;\n",
              "      fill: #D2E3FC;\n",
              "    }\n",
              "\n",
              "    [theme=dark] .colab-df-convert:hover {\n",
              "      background-color: #434B5C;\n",
              "      box-shadow: 0px 1px 3px 1px rgba(0, 0, 0, 0.15);\n",
              "      filter: drop-shadow(0px 1px 2px rgba(0, 0, 0, 0.3));\n",
              "      fill: #FFFFFF;\n",
              "    }\n",
              "  </style>\n",
              "\n",
              "      <script>\n",
              "        const buttonEl =\n",
              "          document.querySelector('#df-ad9b8f94-9a60-4717-820f-d9f79b279ff9 button.colab-df-convert');\n",
              "        buttonEl.style.display =\n",
              "          google.colab.kernel.accessAllowed ? 'block' : 'none';\n",
              "\n",
              "        async function convertToInteractive(key) {\n",
              "          const element = document.querySelector('#df-ad9b8f94-9a60-4717-820f-d9f79b279ff9');\n",
              "          const dataTable =\n",
              "            await google.colab.kernel.invokeFunction('convertToInteractive',\n",
              "                                                     [key], {});\n",
              "          if (!dataTable) return;\n",
              "\n",
              "          const docLinkHtml = 'Like what you see? Visit the ' +\n",
              "            '<a target=\"_blank\" href=https://colab.research.google.com/notebooks/data_table.ipynb>data table notebook</a>'\n",
              "            + ' to learn more about interactive tables.';\n",
              "          element.innerHTML = '';\n",
              "          dataTable['output_type'] = 'display_data';\n",
              "          await google.colab.output.renderOutput(dataTable, element);\n",
              "          const docLink = document.createElement('div');\n",
              "          docLink.innerHTML = docLinkHtml;\n",
              "          element.appendChild(docLink);\n",
              "        }\n",
              "      </script>\n",
              "    </div>\n",
              "  </div>\n",
              "  "
            ]
          },
          "metadata": {},
          "execution_count": 40
        }
      ]
    },
    {
      "cell_type": "code",
      "source": [
        "plt.plot(train_result.index,train_result.predicted)\n",
        "plt.plot(train_result.index,train_result.actual)\n",
        "plt.xlabel('Day')\n",
        "plt.ylabel('Chl-a (mg/m$-3$)')\n",
        "plt.savefig('/content/drive/MyDrive/Ocean_Hackathon/well_trainned.jpg')"
      ],
      "metadata": {
        "colab": {
          "base_uri": "https://localhost:8080/",
          "height": 279
        },
        "id": "M5s3ET7SfI6f",
        "outputId": "6be7dace-0000-4edc-9272-75326831794d"
      },
      "execution_count": 41,
      "outputs": [
        {
          "output_type": "display_data",
          "data": {
            "text/plain": [
              "<Figure size 432x288 with 1 Axes>"
            ],
            "image/png": "[encoded data removed]"
          },
          "metadata": {
            "needs_background": "light"
          }
        }
      ]
    },
    {
      "cell_type": "code",
      "source": [
        "import scipy.stats as sts "
      ],
      "metadata": {
        "id": "N8R4LyOwfMjt"
      },
      "execution_count": 42,
      "outputs": []
    },
    {
      "cell_type": "code",
      "source": [
        "r,p=sts.pearsonr(train_result['predicted'],train_result['actual'])"
      ],
      "metadata": {
        "id": "dAVpHpabs6EC"
      },
      "execution_count": 43,
      "outputs": []
    },
    {
      "cell_type": "code",
      "source": [
        "# test the r value of predicted and actual data\n",
        "r"
      ],
      "metadata": {
        "colab": {
          "base_uri": "https://localhost:8080/"
        },
        "id": "4yPP5pEns8fR",
        "outputId": "9e67bf9e-db6a-460c-a43f-35f714a57cfe"
      },
      "execution_count": 44,
      "outputs": [
        {
          "output_type": "execute_result",
          "data": {
            "text/plain": [
              "0.7204846347235597"
            ]
          },
          "metadata": {},
          "execution_count": 44
        }
      ]
    },
    {
      "cell_type": "markdown",
      "source": [
        "# Using other data with different time range to test the built model (November to December 2022 data)"
      ],
      "metadata": {
        "id": "Ubcfil3Z2qBS"
      }
    },
    {
      "cell_type": "code",
      "source": [
        "# saving the model for future prediciting purpose \n",
        "model.save('/content/drive/MyDrive/Ocean_Hackathon/prediciting_model.h5')"
      ],
      "metadata": {
        "id": "oWy0kpz9kVy-"
      },
      "execution_count": 45,
      "outputs": []
    },
    {
      "cell_type": "code",
      "source": [
        "# load the saved model into memomry \n",
        "model = load_model(\"/content/drive/MyDrive/Ocean_Hackathon/for dashboard/prediciting_model.h5\")"
      ],
      "metadata": {
        "id": "UQexo0McKd8a"
      },
      "execution_count": 46,
      "outputs": []
    },
    {
      "cell_type": "code",
      "source": [
        "# import data for forecasting purpose\n",
        "data_forcasting = pd.read_csv('/content/drive/MyDrive/Ocean_Hackathon/forcasting.csv')"
      ],
      "metadata": {
        "id": "RMeXsG4Cs8_5"
      },
      "execution_count": 47,
      "outputs": []
    },
    {
      "cell_type": "code",
      "source": [
        "data_forcasting = data_forcasting.drop('analysed_sst',axis=1).set_index('time')"
      ],
      "metadata": {
        "id": "OygL0kgjibTw"
      },
      "execution_count": 48,
      "outputs": []
    },
    {
      "cell_type": "code",
      "source": [
        "# the scale factor used in the model, going to apply in the predicting data \n",
        "factor"
      ],
      "metadata": {
        "colab": {
          "base_uri": "https://localhost:8080/"
        },
        "id": "c4MPsO1Hi55t",
        "outputId": "138f803b-6a0d-408b-d32b-223cbf4e40dd"
      },
      "execution_count": 49,
      "outputs": [
        {
          "output_type": "execute_result",
          "data": {
            "text/plain": [
              "26.775383"
            ]
          },
          "metadata": {},
          "execution_count": 49
        }
      ]
    },
    {
      "cell_type": "code",
      "source": [
        "# scale the data\n",
        "data_forcasting['CHL']=data_forcasting['CHL']/factor"
      ],
      "metadata": {
        "id": "1P1QZHcDiLpJ"
      },
      "execution_count": 50,
      "outputs": []
    },
    {
      "cell_type": "code",
      "source": [
        "# divide the data into test and actual set \n",
        "x1,y1=get_X_Y(data_forcasting)"
      ],
      "metadata": {
        "id": "CX1HyvnviTOR"
      },
      "execution_count": 51,
      "outputs": []
    },
    {
      "cell_type": "code",
      "source": [
        "# check the shape of the data, which have to fit in the size of model which have trained \n",
        "x1.shape,y1.shape"
      ],
      "metadata": {
        "colab": {
          "base_uri": "https://localhost:8080/"
        },
        "id": "pX4nnBylibh7",
        "outputId": "4e6a89fb-68ef-4966-fb9a-60e90ecbe484"
      },
      "execution_count": 52,
      "outputs": [
        {
          "output_type": "execute_result",
          "data": {
            "text/plain": [
              "((18, 6, 1), (18, 1))"
            ]
          },
          "metadata": {},
          "execution_count": 52
        }
      ]
    },
    {
      "cell_type": "code",
      "source": [
        "# predicting the future value \n",
        "c = model.predict(x1)"
      ],
      "metadata": {
        "colab": {
          "base_uri": "https://localhost:8080/"
        },
        "id": "VNzunHg4ieb5",
        "outputId": "e7e92d9e-d489-420a-ce46-a214948401e3"
      },
      "execution_count": 53,
      "outputs": [
        {
          "output_type": "stream",
          "name": "stdout",
          "text": [
            "1/1 [==============================] - 1s 636ms/step\n"
          ]
        }
      ]
    },
    {
      "cell_type": "code",
      "source": [
        "# compared the predicting with actual \n",
        "train_result_train=pd.DataFrame({'predicted':c.flatten(),'actual':y1.flatten()})\n",
        "train_result_train"
      ],
      "metadata": {
        "colab": {
          "base_uri": "https://localhost:8080/",
          "height": 614
        },
        "id": "fiYEIWIgpRmJ",
        "outputId": "15cd3c3c-3d91-43e3-fbdd-5a9308696ad8"
      },
      "execution_count": 54,
      "outputs": [
        {
          "output_type": "execute_result",
          "data": {
            "text/plain": [
              "    predicted    actual\n",
              "0    0.065869  0.063976\n",
              "1    0.064725  0.053291\n",
              "2    0.057675  0.054186\n",
              "3    0.053987  0.041092\n",
              "4    0.046885  0.074132\n",
              "5    0.056235  0.074132\n",
              "6    0.064084  0.084355\n",
              "7    0.073686  0.106714\n",
              "8    0.090900  0.106791\n",
              "9    0.101132  0.106666\n",
              "10   0.106077  0.118640\n",
              "11   0.113264  0.131055\n",
              "12   0.124563  0.074165\n",
              "13   0.101624  0.117287\n",
              "14   0.106818  0.074434\n",
              "15   0.094446  0.094883\n",
              "16   0.094386  0.067354\n",
              "17   0.082455  0.067732"
            ],
            "text/html": [
              "\n",
              "  <div id=\"df-3ec34991-d346-4500-afb9-76f807917ac2\">\n",
              "    <div class=\"colab-df-container\">\n",
              "      <div>\n",
              "<style scoped>\n",
              "    .dataframe tbody tr th:only-of-type {\n",
              "        vertical-align: middle;\n",
              "    }\n",
              "\n",
              "    .dataframe tbody tr th {\n",
              "        vertical-align: top;\n",
              "    }\n",
              "\n",
              "    .dataframe thead th {\n",
              "        text-align: right;\n",
              "    }\n",
              "</style>\n",
              "<table border=\"1\" class=\"dataframe\">\n",
              "  <thead>\n",
              "    <tr style=\"text-align: right;\">\n",
              "      <th></th>\n",
              "      <th>predicted</th>\n",
              "      <th>actual</th>\n",
              "    </tr>\n",
              "  </thead>\n",
              "  <tbody>\n",
              "    <tr>\n",
              "      <th>0</th>\n",
              "      <td>0.065869</td>\n",
              "      <td>0.063976</td>\n",
              "    </tr>\n",
              "    <tr>\n",
              "      <th>1</th>\n",
              "      <td>0.064725</td>\n",
              "      <td>0.053291</td>\n",
              "    </tr>\n",
              "    <tr>\n",
              "      <th>2</th>\n",
              "      <td>0.057675</td>\n",
              "      <td>0.054186</td>\n",
              "    </tr>\n",
              "    <tr>\n",
              "      <th>3</th>\n",
              "      <td>0.053987</td>\n",
              "      <td>0.041092</td>\n",
              "    </tr>\n",
              "    <tr>\n",
              "      <th>4</th>\n",
              "      <td>0.046885</td>\n",
              "      <td>0.074132</td>\n",
              "    </tr>\n",
              "    <tr>\n",
              "      <th>5</th>\n",
              "      <td>0.056235</td>\n",
              "      <td>0.074132</td>\n",
              "    </tr>\n",
              "    <tr>\n",
              "      <th>6</th>\n",
              "      <td>0.064084</td>\n",
              "      <td>0.084355</td>\n",
              "    </tr>\n",
              "    <tr>\n",
              "      <th>7</th>\n",
              "      <td>0.073686</td>\n",
              "      <td>0.106714</td>\n",
              "    </tr>\n",
              "    <tr>\n",
              "      <th>8</th>\n",
              "      <td>0.090900</td>\n",
              "      <td>0.106791</td>\n",
              "    </tr>\n",
              "    <tr>\n",
              "      <th>9</th>\n",
              "      <td>0.101132</td>\n",
              "      <td>0.106666</td>\n",
              "    </tr>\n",
              "    <tr>\n",
              "      <th>10</th>\n",
              "      <td>0.106077</td>\n",
              "      <td>0.118640</td>\n",
              "    </tr>\n",
              "    <tr>\n",
              "      <th>11</th>\n",
              "      <td>0.113264</td>\n",
              "      <td>0.131055</td>\n",
              "    </tr>\n",
              "    <tr>\n",
              "      <th>12</th>\n",
              "      <td>0.124563</td>\n",
              "      <td>0.074165</td>\n",
              "    </tr>\n",
              "    <tr>\n",
              "      <th>13</th>\n",
              "      <td>0.101624</td>\n",
              "      <td>0.117287</td>\n",
              "    </tr>\n",
              "    <tr>\n",
              "      <th>14</th>\n",
              "      <td>0.106818</td>\n",
              "      <td>0.074434</td>\n",
              "    </tr>\n",
              "    <tr>\n",
              "      <th>15</th>\n",
              "      <td>0.094446</td>\n",
              "      <td>0.094883</td>\n",
              "    </tr>\n",
              "    <tr>\n",
              "      <th>16</th>\n",
              "      <td>0.094386</td>\n",
              "      <td>0.067354</td>\n",
              "    </tr>\n",
              "    <tr>\n",
              "      <th>17</th>\n",
              "      <td>0.082455</td>\n",
              "      <td>0.067732</td>\n",
              "    </tr>\n",
              "  </tbody>\n",
              "</table>\n",
              "</div>\n",
              "      <button class=\"colab-df-convert\" onclick=\"convertToInteractive('df-3ec34991-d346-4500-afb9-76f807917ac2')\"\n",
              "              title=\"Convert this dataframe to an interactive table.\"\n",
              "              style=\"display:none;\">\n",
              "        \n",
              "  <svg xmlns=\"http://www.w3.org/2000/svg\" height=\"24px\"viewBox=\"0 0 24 24\"\n",
              "       width=\"24px\">\n",
              "    <path d=\"M0 0h24v24H0V0z\" fill=\"none\"/>\n",
              "    <path d=\"M18.56 5.44l.94 2.06.94-2.06 2.06-.94-2.06-.94-.94-2.06-.94 2.06-2.06.94zm-11 1L8.5 8.5l.94-2.06 2.06-.94-2.06-.94L8.5 2.5l-.94 2.06-2.06.94zm10 10l.94 2.06.94-2.06 2.06-.94-2.06-.94-.94-2.06-.94 2.06-2.06.94z\"/><path d=\"M17.41 7.96l-1.37-1.37c-.4-.4-.92-.59-1.43-.59-.52 0-1.04.2-1.43.59L10.3 9.45l-7.72 7.72c-.78.78-.78 2.05 0 2.83L4 21.41c.39.39.9.59 1.41.59.51 0 1.02-.2 1.41-.59l7.78-7.78 2.81-2.81c.8-.78.8-2.07 0-2.86zM5.41 20L4 18.59l7.72-7.72 1.47 1.35L5.41 20z\"/>\n",
              "  </svg>\n",
              "      </button>\n",
              "      \n",
              "  <style>\n",
              "    .colab-df-container {\n",
              "      display:flex;\n",
              "      flex-wrap:wrap;\n",
              "      gap: 12px;\n",
              "    }\n",
              "\n",
              "    .colab-df-convert {\n",
              "      background-color: #E8F0FE;\n",
              "      border: none;\n",
              "      border-radius: 50%;\n",
              "      cursor: pointer;\n",
              "      display: none;\n",
              "      fill: #1967D2;\n",
              "      height: 32px;\n",
              "      padding: 0 0 0 0;\n",
              "      width: 32px;\n",
              "    }\n",
              "\n",
              "    .colab-df-convert:hover {\n",
              "      background-color: #E2EBFA;\n",
              "      box-shadow: 0px 1px 2px rgba(60, 64, 67, 0.3), 0px 1px 3px 1px rgba(60, 64, 67, 0.15);\n",
              "      fill: #174EA6;\n",
              "    }\n",
              "\n",
              "    [theme=dark] .colab-df-convert {\n",
              "      background-color: #3B4455;\n",
              "      fill: #D2E3FC;\n",
              "    }\n",
              "\n",
              "    [theme=dark] .colab-df-convert:hover {\n",
              "      background-color: #434B5C;\n",
              "      box-shadow: 0px 1px 3px 1px rgba(0, 0, 0, 0.15);\n",
              "      filter: drop-shadow(0px 1px 2px rgba(0, 0, 0, 0.3));\n",
              "      fill: #FFFFFF;\n",
              "    }\n",
              "  </style>\n",
              "\n",
              "      <script>\n",
              "        const buttonEl =\n",
              "          document.querySelector('#df-3ec34991-d346-4500-afb9-76f807917ac2 button.colab-df-convert');\n",
              "        buttonEl.style.display =\n",
              "          google.colab.kernel.accessAllowed ? 'block' : 'none';\n",
              "\n",
              "        async function convertToInteractive(key) {\n",
              "          const element = document.querySelector('#df-3ec34991-d346-4500-afb9-76f807917ac2');\n",
              "          const dataTable =\n",
              "            await google.colab.kernel.invokeFunction('convertToInteractive',\n",
              "                                                     [key], {});\n",
              "          if (!dataTable) return;\n",
              "\n",
              "          const docLinkHtml = 'Like what you see? Visit the ' +\n",
              "            '<a target=\"_blank\" href=https://colab.research.google.com/notebooks/data_table.ipynb>data table notebook</a>'\n",
              "            + ' to learn more about interactive tables.';\n",
              "          element.innerHTML = '';\n",
              "          dataTable['output_type'] = 'display_data';\n",
              "          await google.colab.output.renderOutput(dataTable, element);\n",
              "          const docLink = document.createElement('div');\n",
              "          docLink.innerHTML = docLinkHtml;\n",
              "          element.appendChild(docLink);\n",
              "        }\n",
              "      </script>\n",
              "    </div>\n",
              "  </div>\n",
              "  "
            ]
          },
          "metadata": {},
          "execution_count": 54
        }
      ]
    },
    {
      "cell_type": "code",
      "source": [
        "# get the r value \n",
        "r1,p1=sts.pearsonr(train_result_train['predicted'],train_result_train['actual'])"
      ],
      "metadata": {
        "id": "WPBFFk6ppZ8n"
      },
      "execution_count": 55,
      "outputs": []
    },
    {
      "cell_type": "code",
      "source": [
        "r1"
      ],
      "metadata": {
        "colab": {
          "base_uri": "https://localhost:8080/"
        },
        "id": "jhQSe_AsphjZ",
        "outputId": "07a840f3-387d-4683-8f21-ce5872a495d9"
      },
      "execution_count": 56,
      "outputs": [
        {
          "output_type": "execute_result",
          "data": {
            "text/plain": [
              "0.5924138350607606"
            ]
          },
          "metadata": {},
          "execution_count": 56
        }
      ]
    },
    {
      "cell_type": "code",
      "source": [
        "# visualise predicting value \n",
        "plt.plot(train_result_train.index,train_result_train.predicted)\n",
        "plt.plot(train_result_train.index,train_result_train.actual)"
      ],
      "metadata": {
        "id": "zQ5E0arypiVx",
        "colab": {
          "base_uri": "https://localhost:8080/",
          "height": 282
        },
        "outputId": "cf4668db-ced5-4a0f-c138-8f775d8a43cb"
      },
      "execution_count": 57,
      "outputs": [
        {
          "output_type": "execute_result",
          "data": {
            "text/plain": [
              "[<matplotlib.lines.Line2D at 0x7f80be0709a0>]"
            ]
          },
          "metadata": {},
          "execution_count": 57
        },
        {
          "output_type": "display_data",
          "data": {
            "text/plain": [
              "<Figure size 432x288 with 1 Axes>"
            ],
            "image/png": "[encoded data removed]"
          },
          "metadata": {
            "needs_background": "light"
          }
        }
      ]
    }
  ]
}